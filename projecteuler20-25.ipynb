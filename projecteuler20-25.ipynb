{
 "cells": [
  {
   "cell_type": "markdown",
   "metadata": {
    "deletable": true,
    "editable": true
   },
   "source": [
    "#20-#25"
   ]
  },
  {
   "cell_type": "markdown",
   "metadata": {
    "collapsed": false,
    "deletable": true,
    "editable": true
   },
   "source": [
    "#20"
   ]
  },
  {
   "cell_type": "code",
   "execution_count": 47,
   "metadata": {
    "collapsed": false,
    "deletable": true,
    "editable": true
   },
   "outputs": [
    {
     "name": "stdout",
     "output_type": "stream",
     "text": [
      "93326215443944152681699238856266700490715968264381621468592963895217599993229915608941463976156518286253697920827223758251185210916864000000000000000000000000\n",
      "648\n"
     ]
    }
   ],
   "source": [
    "a = 1\n",
    "n = 100\n",
    "for i in range(1, n+1):\n",
    "    a = a * i\n",
    "print(a)\n",
    "sum = 0\n",
    "while a>0:\n",
    "    sum += a%10\n",
    "    a = a//10 #除余整数，/除余小数\n",
    "print(sum)"
   ]
  },
  {
   "cell_type": "markdown",
   "metadata": {
    "collapsed": false,
    "deletable": true,
    "editable": true
   },
   "source": [
    "#25"
   ]
  },
  {
   "cell_type": "code",
   "execution_count": null,
   "metadata": {
    "collapsed": false,
    "deletable": true,
    "editable": true
   },
   "outputs": [],
   "source": [
    "a1=1\n",
    "a2=1\n",
    "a3=2\n",
    "while 1:\n",
    "    k = a + a2\n",
    "    a3 = a3 + 1\n",
    "    a = a2\n",
    "    a2 = k\n",
    "    if len(str(k))>=1000:\n",
    "        print(a3)\n",
    "        break"
   ]
  },
  {
   "cell_type": "code",
   "execution_count": null,
   "metadata": {
    "collapsed": false
   },
   "outputs": [],
   "source": []
  },
  {
   "cell_type": "code",
   "execution_count": null,
   "metadata": {
    "collapsed": false
   },
   "outputs": [],
   "source": []
  },
  {
   "cell_type": "code",
   "execution_count": null,
   "metadata": {
    "collapsed": false
   },
   "outputs": [],
   "source": []
  },
  {
   "cell_type": "code",
   "execution_count": null,
   "metadata": {
    "collapsed": false,
    "deletable": true,
    "editable": true
   },
   "outputs": [],
   "source": []
  },
  {
   "cell_type": "code",
   "execution_count": null,
   "metadata": {
    "collapsed": true,
    "deletable": true,
    "editable": true
   },
   "outputs": [],
   "source": []
  },
  {
   "cell_type": "code",
   "execution_count": 43,
   "metadata": {
    "collapsed": false
   },
   "outputs": [
    {
     "name": "stdout",
     "output_type": "stream",
     "text": [
      "<itertools.product object at 0x000000433F3583A8>\n",
      "<itertools.product object at 0x000000433F3583A8>\n"
     ]
    }
   ],
   "source": [
    "#for i in range(1, 10001):\n",
    "ls = []\n",
    "for j in range(1, 10001):\n",
    "    n = 220\n",
    "    ret = []\n",
    "    for i in range(1, n):\n",
    "        if j % i == 0:\n",
    "            ret.append(i)\n",
    "    k = sum(ret)\n",
    "    ls.append(k)\n",
    "print(ls)      \n",
    "#print(ls.index(14))\n",
    "#print(ls[14])\n",
    "#ls1 = ls\n",
    "#ret1 = []\n",
    "#for i in ls:\n",
    "#    if i in ls1 and i != 1:\n",
    "#        ret1.append(ls1.index(i))\n",
    "\n",
    "#print(sum(ret1))"
   ]
  },
  {
   "cell_type": "code",
   "execution_count": null,
   "metadata": {
    "collapsed": true
   },
   "outputs": [],
   "source": []
  }
 ],
 "metadata": {
  "kernelspec": {
   "display_name": "Python 3",
   "language": "python",
   "name": "python3"
  },
  "language_info": {
   "codemirror_mode": {
    "name": "ipython",
    "version": 3
   },
   "file_extension": ".py",
   "mimetype": "text/x-python",
   "name": "python",
   "nbconvert_exporter": "python",
   "pygments_lexer": "ipython3",
   "version": "3.6.0"
  }
 },
 "nbformat": 4,
 "nbformat_minor": 2
}
